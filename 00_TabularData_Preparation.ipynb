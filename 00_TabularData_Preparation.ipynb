{
 "cells": [
  {
   "cell_type": "markdown",
   "id": "1",
   "metadata": {},
   "source": [
    "# Tabular data sanity checks and formatting for later use\n",
    "The shared Excel file contains accounting data from a company operating on various marketplace, \n",
    "segements (small business, small+, mid-market, local)."
   ]
  },
  {
   "cell_type": "markdown",
   "id": "2",
   "metadata": {},
   "source": [
    "# Splitting into different tables\n",
    "The Excel file seems to be an extract from multiple database tables:\n",
    "Transaction, Total Revenue, Cost of Services, Credit Card Fees, Gross Profit, Business Operation.\n",
    "I will redo this split into multiple pandas dataframes."
   ]
  },
  {
   "cell_type": "code",
   "execution_count": 11,
   "id": "3",
   "metadata": {
    "ExecuteTime": {
     "end_time": "2024-06-28T18:49:07.069245600Z",
     "start_time": "2024-06-28T18:49:06.443912Z"
    }
   },
   "outputs": [
    {
     "name": "stdout",
     "output_type": "stream",
     "text": [
      "transactions\n"
     ]
    },
    {
     "data": {
      "text/plain": "            total_transactions    enterprise    mid_market            a1  \\\n2022-01-01       152987.508148  14204.968259  13920.868894  21307.452388   \n2022-02-01       160132.117379  14868.348875  14570.981897  22302.523312   \n2022-03-01       164218.516480  15247.773118  14942.817656  22871.659677   \n2022-04-01       168271.078904  15624.055609  15311.574496  23436.083413   \n2022-05-01       164393.114747  15263.984656  14958.704963  22895.976984   \n\n            marketplaces       small+         small         local  \\\n2022-01-01  14062.918576  4261.490478  13778.819211  42614.904777   \n2022-02-01  14719.665386  4460.504662  14422.298408  44605.046624   \n2022-03-01  15095.295387  4574.331935  14790.339924  45743.319354   \n2022-04-01  15467.815052  4687.216683  15155.333940  46872.166826   \n2022-05-01  15111.344810  4579.195397  14806.065117  45791.953969   \n\n                editions         other  \n2022-01-01  14347.017941  14489.067624  \n2022-02-01  15017.032363  15165.715852  \n2022-03-01  15400.250849  15552.728580  \n2022-04-01  15780.296165  15936.536721  \n2022-05-01  15416.624503  15569.264349  ",
      "text/html": "<div>\n<style scoped>\n    .dataframe tbody tr th:only-of-type {\n        vertical-align: middle;\n    }\n\n    .dataframe tbody tr th {\n        vertical-align: top;\n    }\n\n    .dataframe thead th {\n        text-align: right;\n    }\n</style>\n<table border=\"1\" class=\"dataframe\">\n  <thead>\n    <tr style=\"text-align: right;\">\n      <th></th>\n      <th>total_transactions</th>\n      <th>enterprise</th>\n      <th>mid_market</th>\n      <th>a1</th>\n      <th>marketplaces</th>\n      <th>small+</th>\n      <th>small</th>\n      <th>local</th>\n      <th>editions</th>\n      <th>other</th>\n    </tr>\n  </thead>\n  <tbody>\n    <tr>\n      <th>2022-01-01</th>\n      <td>152987.508148</td>\n      <td>14204.968259</td>\n      <td>13920.868894</td>\n      <td>21307.452388</td>\n      <td>14062.918576</td>\n      <td>4261.490478</td>\n      <td>13778.819211</td>\n      <td>42614.904777</td>\n      <td>14347.017941</td>\n      <td>14489.067624</td>\n    </tr>\n    <tr>\n      <th>2022-02-01</th>\n      <td>160132.117379</td>\n      <td>14868.348875</td>\n      <td>14570.981897</td>\n      <td>22302.523312</td>\n      <td>14719.665386</td>\n      <td>4460.504662</td>\n      <td>14422.298408</td>\n      <td>44605.046624</td>\n      <td>15017.032363</td>\n      <td>15165.715852</td>\n    </tr>\n    <tr>\n      <th>2022-03-01</th>\n      <td>164218.516480</td>\n      <td>15247.773118</td>\n      <td>14942.817656</td>\n      <td>22871.659677</td>\n      <td>15095.295387</td>\n      <td>4574.331935</td>\n      <td>14790.339924</td>\n      <td>45743.319354</td>\n      <td>15400.250849</td>\n      <td>15552.728580</td>\n    </tr>\n    <tr>\n      <th>2022-04-01</th>\n      <td>168271.078904</td>\n      <td>15624.055609</td>\n      <td>15311.574496</td>\n      <td>23436.083413</td>\n      <td>15467.815052</td>\n      <td>4687.216683</td>\n      <td>15155.333940</td>\n      <td>46872.166826</td>\n      <td>15780.296165</td>\n      <td>15936.536721</td>\n    </tr>\n    <tr>\n      <th>2022-05-01</th>\n      <td>164393.114747</td>\n      <td>15263.984656</td>\n      <td>14958.704963</td>\n      <td>22895.976984</td>\n      <td>15111.344810</td>\n      <td>4579.195397</td>\n      <td>14806.065117</td>\n      <td>45791.953969</td>\n      <td>15416.624503</td>\n      <td>15569.264349</td>\n    </tr>\n  </tbody>\n</table>\n</div>"
     },
     "metadata": {},
     "output_type": "display_data"
    },
    {
     "name": "stdout",
     "output_type": "stream",
     "text": [
      "revenues\n"
     ]
    },
    {
     "data": {
      "text/plain": "            total_revenue    enterprise  mid_market          a1  marketplaces  \\\n2022-01-01   28118.599084  27786.206444  180.480533  151.912106           0.0   \n2022-02-01   30985.974013  30549.673572  -29.771865  466.072306           0.0   \n2022-03-01   46638.517384  46329.133424  211.965009   97.418952           0.0   \n2022-04-01   89585.592673  88913.407447  672.185226    0.000000           0.0   \n2022-05-01   87238.211872  87650.448540 -412.236667    0.000000           0.0   \n\n            small+  small  local  editions  other  \n2022-01-01     0.0    0.0    0.0       0.0    0.0  \n2022-02-01     0.0    0.0    0.0       0.0    0.0  \n2022-03-01     0.0    0.0    0.0       0.0    0.0  \n2022-04-01     0.0    0.0    0.0       0.0    0.0  \n2022-05-01     0.0    0.0    0.0       0.0    0.0  ",
      "text/html": "<div>\n<style scoped>\n    .dataframe tbody tr th:only-of-type {\n        vertical-align: middle;\n    }\n\n    .dataframe tbody tr th {\n        vertical-align: top;\n    }\n\n    .dataframe thead th {\n        text-align: right;\n    }\n</style>\n<table border=\"1\" class=\"dataframe\">\n  <thead>\n    <tr style=\"text-align: right;\">\n      <th></th>\n      <th>total_revenue</th>\n      <th>enterprise</th>\n      <th>mid_market</th>\n      <th>a1</th>\n      <th>marketplaces</th>\n      <th>small+</th>\n      <th>small</th>\n      <th>local</th>\n      <th>editions</th>\n      <th>other</th>\n    </tr>\n  </thead>\n  <tbody>\n    <tr>\n      <th>2022-01-01</th>\n      <td>28118.599084</td>\n      <td>27786.206444</td>\n      <td>180.480533</td>\n      <td>151.912106</td>\n      <td>0.0</td>\n      <td>0.0</td>\n      <td>0.0</td>\n      <td>0.0</td>\n      <td>0.0</td>\n      <td>0.0</td>\n    </tr>\n    <tr>\n      <th>2022-02-01</th>\n      <td>30985.974013</td>\n      <td>30549.673572</td>\n      <td>-29.771865</td>\n      <td>466.072306</td>\n      <td>0.0</td>\n      <td>0.0</td>\n      <td>0.0</td>\n      <td>0.0</td>\n      <td>0.0</td>\n      <td>0.0</td>\n    </tr>\n    <tr>\n      <th>2022-03-01</th>\n      <td>46638.517384</td>\n      <td>46329.133424</td>\n      <td>211.965009</td>\n      <td>97.418952</td>\n      <td>0.0</td>\n      <td>0.0</td>\n      <td>0.0</td>\n      <td>0.0</td>\n      <td>0.0</td>\n      <td>0.0</td>\n    </tr>\n    <tr>\n      <th>2022-04-01</th>\n      <td>89585.592673</td>\n      <td>88913.407447</td>\n      <td>672.185226</td>\n      <td>0.000000</td>\n      <td>0.0</td>\n      <td>0.0</td>\n      <td>0.0</td>\n      <td>0.0</td>\n      <td>0.0</td>\n      <td>0.0</td>\n    </tr>\n    <tr>\n      <th>2022-05-01</th>\n      <td>87238.211872</td>\n      <td>87650.448540</td>\n      <td>-412.236667</td>\n      <td>0.000000</td>\n      <td>0.0</td>\n      <td>0.0</td>\n      <td>0.0</td>\n      <td>0.0</td>\n      <td>0.0</td>\n      <td>0.0</td>\n    </tr>\n  </tbody>\n</table>\n</div>"
     },
     "metadata": {},
     "output_type": "display_data"
    },
    {
     "name": "stdout",
     "output_type": "stream",
     "text": [
      "service_costs\n"
     ]
    },
    {
     "data": {
      "text/plain": "            total_cost_of_services    enterprise   mid_market   a1  \\\n2022-01-01           -21392.573405 -20830.964058  -561.609347  0.0   \n2022-02-01           -11401.276005 -11397.054589    -4.221416  0.0   \n2022-03-01           -26161.018896 -26134.760000   -26.258896  0.0   \n2022-04-01           -33755.496382 -30023.103465 -3732.392917  0.0   \n2022-05-01           -28320.314191 -28314.576476    -5.737715  0.0   \n\n            marketplaces  small+  small  local  editions  other  \n2022-01-01           0.0     0.0    0.0    0.0       0.0    0.0  \n2022-02-01           0.0     0.0    0.0    0.0       0.0    0.0  \n2022-03-01           0.0     0.0    0.0    0.0       0.0    0.0  \n2022-04-01           0.0     0.0    0.0    0.0       0.0    0.0  \n2022-05-01           0.0     0.0    0.0    0.0       0.0    0.0  ",
      "text/html": "<div>\n<style scoped>\n    .dataframe tbody tr th:only-of-type {\n        vertical-align: middle;\n    }\n\n    .dataframe tbody tr th {\n        vertical-align: top;\n    }\n\n    .dataframe thead th {\n        text-align: right;\n    }\n</style>\n<table border=\"1\" class=\"dataframe\">\n  <thead>\n    <tr style=\"text-align: right;\">\n      <th></th>\n      <th>total_cost_of_services</th>\n      <th>enterprise</th>\n      <th>mid_market</th>\n      <th>a1</th>\n      <th>marketplaces</th>\n      <th>small+</th>\n      <th>small</th>\n      <th>local</th>\n      <th>editions</th>\n      <th>other</th>\n    </tr>\n  </thead>\n  <tbody>\n    <tr>\n      <th>2022-01-01</th>\n      <td>-21392.573405</td>\n      <td>-20830.964058</td>\n      <td>-561.609347</td>\n      <td>0.0</td>\n      <td>0.0</td>\n      <td>0.0</td>\n      <td>0.0</td>\n      <td>0.0</td>\n      <td>0.0</td>\n      <td>0.0</td>\n    </tr>\n    <tr>\n      <th>2022-02-01</th>\n      <td>-11401.276005</td>\n      <td>-11397.054589</td>\n      <td>-4.221416</td>\n      <td>0.0</td>\n      <td>0.0</td>\n      <td>0.0</td>\n      <td>0.0</td>\n      <td>0.0</td>\n      <td>0.0</td>\n      <td>0.0</td>\n    </tr>\n    <tr>\n      <th>2022-03-01</th>\n      <td>-26161.018896</td>\n      <td>-26134.760000</td>\n      <td>-26.258896</td>\n      <td>0.0</td>\n      <td>0.0</td>\n      <td>0.0</td>\n      <td>0.0</td>\n      <td>0.0</td>\n      <td>0.0</td>\n      <td>0.0</td>\n    </tr>\n    <tr>\n      <th>2022-04-01</th>\n      <td>-33755.496382</td>\n      <td>-30023.103465</td>\n      <td>-3732.392917</td>\n      <td>0.0</td>\n      <td>0.0</td>\n      <td>0.0</td>\n      <td>0.0</td>\n      <td>0.0</td>\n      <td>0.0</td>\n      <td>0.0</td>\n    </tr>\n    <tr>\n      <th>2022-05-01</th>\n      <td>-28320.314191</td>\n      <td>-28314.576476</td>\n      <td>-5.737715</td>\n      <td>0.0</td>\n      <td>0.0</td>\n      <td>0.0</td>\n      <td>0.0</td>\n      <td>0.0</td>\n      <td>0.0</td>\n      <td>0.0</td>\n    </tr>\n  </tbody>\n</table>\n</div>"
     },
     "metadata": {},
     "output_type": "display_data"
    },
    {
     "name": "stdout",
     "output_type": "stream",
     "text": [
      "creditcard_costs\n"
     ]
    },
    {
     "data": {
      "text/plain": "            total_credit_card_fees   enterprise  mid_market   a1  \\\n2022-01-01             -441.168853  -171.917590 -269.251263  0.0   \n2022-02-01             -799.029135  -594.021172 -205.007963  0.0   \n2022-03-01            -1307.719110 -1030.553250 -277.165860  0.0   \n2022-04-01            -1469.071907  -985.902940 -483.168967  0.0   \n2022-05-01            -1720.539059 -1373.178281 -347.360778  0.0   \n\n            marketplaces  small+  small  local  editions  other  \n2022-01-01           0.0     0.0    0.0    0.0       0.0    0.0  \n2022-02-01           0.0     0.0    0.0    0.0       0.0    0.0  \n2022-03-01           0.0     0.0    0.0    0.0       0.0    0.0  \n2022-04-01           0.0     0.0    0.0    0.0       0.0    0.0  \n2022-05-01           0.0     0.0    0.0    0.0       0.0    0.0  ",
      "text/html": "<div>\n<style scoped>\n    .dataframe tbody tr th:only-of-type {\n        vertical-align: middle;\n    }\n\n    .dataframe tbody tr th {\n        vertical-align: top;\n    }\n\n    .dataframe thead th {\n        text-align: right;\n    }\n</style>\n<table border=\"1\" class=\"dataframe\">\n  <thead>\n    <tr style=\"text-align: right;\">\n      <th></th>\n      <th>total_credit_card_fees</th>\n      <th>enterprise</th>\n      <th>mid_market</th>\n      <th>a1</th>\n      <th>marketplaces</th>\n      <th>small+</th>\n      <th>small</th>\n      <th>local</th>\n      <th>editions</th>\n      <th>other</th>\n    </tr>\n  </thead>\n  <tbody>\n    <tr>\n      <th>2022-01-01</th>\n      <td>-441.168853</td>\n      <td>-171.917590</td>\n      <td>-269.251263</td>\n      <td>0.0</td>\n      <td>0.0</td>\n      <td>0.0</td>\n      <td>0.0</td>\n      <td>0.0</td>\n      <td>0.0</td>\n      <td>0.0</td>\n    </tr>\n    <tr>\n      <th>2022-02-01</th>\n      <td>-799.029135</td>\n      <td>-594.021172</td>\n      <td>-205.007963</td>\n      <td>0.0</td>\n      <td>0.0</td>\n      <td>0.0</td>\n      <td>0.0</td>\n      <td>0.0</td>\n      <td>0.0</td>\n      <td>0.0</td>\n    </tr>\n    <tr>\n      <th>2022-03-01</th>\n      <td>-1307.719110</td>\n      <td>-1030.553250</td>\n      <td>-277.165860</td>\n      <td>0.0</td>\n      <td>0.0</td>\n      <td>0.0</td>\n      <td>0.0</td>\n      <td>0.0</td>\n      <td>0.0</td>\n      <td>0.0</td>\n    </tr>\n    <tr>\n      <th>2022-04-01</th>\n      <td>-1469.071907</td>\n      <td>-985.902940</td>\n      <td>-483.168967</td>\n      <td>0.0</td>\n      <td>0.0</td>\n      <td>0.0</td>\n      <td>0.0</td>\n      <td>0.0</td>\n      <td>0.0</td>\n      <td>0.0</td>\n    </tr>\n    <tr>\n      <th>2022-05-01</th>\n      <td>-1720.539059</td>\n      <td>-1373.178281</td>\n      <td>-347.360778</td>\n      <td>0.0</td>\n      <td>0.0</td>\n      <td>0.0</td>\n      <td>0.0</td>\n      <td>0.0</td>\n      <td>0.0</td>\n      <td>0.0</td>\n    </tr>\n  </tbody>\n</table>\n</div>"
     },
     "metadata": {},
     "output_type": "display_data"
    },
    {
     "name": "stdout",
     "output_type": "stream",
     "text": [
      "profits\n"
     ]
    },
    {
     "data": {
      "text/plain": "            total_gross_profit    enterprise   mid_market          a1  \\\n2022-01-01         6284.856826   6783.324796  -650.380077  151.912106   \n2022-02-01        18785.668873  18558.597812  -239.001244  466.072306   \n2022-03-01        19169.779379  19163.820174   -91.459747   97.418952   \n2022-04-01        54361.024383  57904.401042 -3543.376658    0.000000   \n2022-05-01        57197.358622  57962.693782  -765.335160    0.000000   \n\n            marketplaces  small+  small  local  editions  other  \n2022-01-01           0.0     0.0    0.0    0.0       0.0    0.0  \n2022-02-01           0.0     0.0    0.0    0.0       0.0    0.0  \n2022-03-01           0.0     0.0    0.0    0.0       0.0    0.0  \n2022-04-01           0.0     0.0    0.0    0.0       0.0    0.0  \n2022-05-01           0.0     0.0    0.0    0.0       0.0    0.0  ",
      "text/html": "<div>\n<style scoped>\n    .dataframe tbody tr th:only-of-type {\n        vertical-align: middle;\n    }\n\n    .dataframe tbody tr th {\n        vertical-align: top;\n    }\n\n    .dataframe thead th {\n        text-align: right;\n    }\n</style>\n<table border=\"1\" class=\"dataframe\">\n  <thead>\n    <tr style=\"text-align: right;\">\n      <th></th>\n      <th>total_gross_profit</th>\n      <th>enterprise</th>\n      <th>mid_market</th>\n      <th>a1</th>\n      <th>marketplaces</th>\n      <th>small+</th>\n      <th>small</th>\n      <th>local</th>\n      <th>editions</th>\n      <th>other</th>\n    </tr>\n  </thead>\n  <tbody>\n    <tr>\n      <th>2022-01-01</th>\n      <td>6284.856826</td>\n      <td>6783.324796</td>\n      <td>-650.380077</td>\n      <td>151.912106</td>\n      <td>0.0</td>\n      <td>0.0</td>\n      <td>0.0</td>\n      <td>0.0</td>\n      <td>0.0</td>\n      <td>0.0</td>\n    </tr>\n    <tr>\n      <th>2022-02-01</th>\n      <td>18785.668873</td>\n      <td>18558.597812</td>\n      <td>-239.001244</td>\n      <td>466.072306</td>\n      <td>0.0</td>\n      <td>0.0</td>\n      <td>0.0</td>\n      <td>0.0</td>\n      <td>0.0</td>\n      <td>0.0</td>\n    </tr>\n    <tr>\n      <th>2022-03-01</th>\n      <td>19169.779379</td>\n      <td>19163.820174</td>\n      <td>-91.459747</td>\n      <td>97.418952</td>\n      <td>0.0</td>\n      <td>0.0</td>\n      <td>0.0</td>\n      <td>0.0</td>\n      <td>0.0</td>\n      <td>0.0</td>\n    </tr>\n    <tr>\n      <th>2022-04-01</th>\n      <td>54361.024383</td>\n      <td>57904.401042</td>\n      <td>-3543.376658</td>\n      <td>0.000000</td>\n      <td>0.0</td>\n      <td>0.0</td>\n      <td>0.0</td>\n      <td>0.0</td>\n      <td>0.0</td>\n      <td>0.0</td>\n    </tr>\n    <tr>\n      <th>2022-05-01</th>\n      <td>57197.358622</td>\n      <td>57962.693782</td>\n      <td>-765.335160</td>\n      <td>0.000000</td>\n      <td>0.0</td>\n      <td>0.0</td>\n      <td>0.0</td>\n      <td>0.0</td>\n      <td>0.0</td>\n      <td>0.0</td>\n    </tr>\n  </tbody>\n</table>\n</div>"
     },
     "metadata": {},
     "output_type": "display_data"
    },
    {
     "name": "stdout",
     "output_type": "stream",
     "text": [
      "external_costs\n"
     ]
    },
    {
     "data": {
      "text/plain": "            business_operations  customer_service  marketing_expenses  \\\n2022-01-01         -1306.434758      -1066.690320         -235.746558   \n2022-02-01          -356.925054      -2078.609752         -160.485888   \n2022-03-01           -53.571787      -1972.433332         -129.836520   \n2022-04-01          -393.545334      -3031.443486        -6959.907853   \n2022-05-01          -369.124191     -13942.337917        -7711.758383   \n\n             staff_costs   other_opex    total_opex  \n2022-01-01 -31614.306358  -907.037106 -35130.215101  \n2022-02-01 -36273.787650  -602.322527 -39472.130871  \n2022-03-01 -42251.571330 -1287.141050 -45694.554019  \n2022-04-01 -41628.596715 -6531.382817 -58544.876206  \n2022-05-01 -42122.915967 -1920.188815 -66066.325274  ",
      "text/html": "<div>\n<style scoped>\n    .dataframe tbody tr th:only-of-type {\n        vertical-align: middle;\n    }\n\n    .dataframe tbody tr th {\n        vertical-align: top;\n    }\n\n    .dataframe thead th {\n        text-align: right;\n    }\n</style>\n<table border=\"1\" class=\"dataframe\">\n  <thead>\n    <tr style=\"text-align: right;\">\n      <th></th>\n      <th>business_operations</th>\n      <th>customer_service</th>\n      <th>marketing_expenses</th>\n      <th>staff_costs</th>\n      <th>other_opex</th>\n      <th>total_opex</th>\n    </tr>\n  </thead>\n  <tbody>\n    <tr>\n      <th>2022-01-01</th>\n      <td>-1306.434758</td>\n      <td>-1066.690320</td>\n      <td>-235.746558</td>\n      <td>-31614.306358</td>\n      <td>-907.037106</td>\n      <td>-35130.215101</td>\n    </tr>\n    <tr>\n      <th>2022-02-01</th>\n      <td>-356.925054</td>\n      <td>-2078.609752</td>\n      <td>-160.485888</td>\n      <td>-36273.787650</td>\n      <td>-602.322527</td>\n      <td>-39472.130871</td>\n    </tr>\n    <tr>\n      <th>2022-03-01</th>\n      <td>-53.571787</td>\n      <td>-1972.433332</td>\n      <td>-129.836520</td>\n      <td>-42251.571330</td>\n      <td>-1287.141050</td>\n      <td>-45694.554019</td>\n    </tr>\n    <tr>\n      <th>2022-04-01</th>\n      <td>-393.545334</td>\n      <td>-3031.443486</td>\n      <td>-6959.907853</td>\n      <td>-41628.596715</td>\n      <td>-6531.382817</td>\n      <td>-58544.876206</td>\n    </tr>\n    <tr>\n      <th>2022-05-01</th>\n      <td>-369.124191</td>\n      <td>-13942.337917</td>\n      <td>-7711.758383</td>\n      <td>-42122.915967</td>\n      <td>-1920.188815</td>\n      <td>-66066.325274</td>\n    </tr>\n  </tbody>\n</table>\n</div>"
     },
     "metadata": {},
     "output_type": "display_data"
    },
    {
     "name": "stdout",
     "output_type": "stream",
     "text": [
      "net_income\n"
     ]
    },
    {
     "data": {
      "text/plain": "                  ebitda\n2022-01-01 -28845.358275\n2022-02-01 -20686.461998\n2022-03-01 -26524.774640\n2022-04-01  -4183.851822\n2022-05-01  -8868.966652",
      "text/html": "<div>\n<style scoped>\n    .dataframe tbody tr th:only-of-type {\n        vertical-align: middle;\n    }\n\n    .dataframe tbody tr th {\n        vertical-align: top;\n    }\n\n    .dataframe thead th {\n        text-align: right;\n    }\n</style>\n<table border=\"1\" class=\"dataframe\">\n  <thead>\n    <tr style=\"text-align: right;\">\n      <th></th>\n      <th>ebitda</th>\n    </tr>\n  </thead>\n  <tbody>\n    <tr>\n      <th>2022-01-01</th>\n      <td>-28845.358275</td>\n    </tr>\n    <tr>\n      <th>2022-02-01</th>\n      <td>-20686.461998</td>\n    </tr>\n    <tr>\n      <th>2022-03-01</th>\n      <td>-26524.774640</td>\n    </tr>\n    <tr>\n      <th>2022-04-01</th>\n      <td>-4183.851822</td>\n    </tr>\n    <tr>\n      <th>2022-05-01</th>\n      <td>-8868.966652</td>\n    </tr>\n  </tbody>\n</table>\n</div>"
     },
     "metadata": {},
     "output_type": "display_data"
    }
   ],
   "source": [
    "import pandas as pd\n",
    "from core.readers.xlsx_readers import fetch_transactions, fetch_service_costs, \\\n",
    "    fetch_creditcard_costs, fetch_profits, fetch_external_costs, fetch_net_income, fetch_revenues\n",
    "\n",
    "# A hashmap will contain the split dataframes.\n",
    "# Dataframes are transposed (as the data are time series).\n",
    "# nan/missing values are set to 0 (as this data represent transactions and financial values).\n",
    "dfs = {\n",
    "\"transactions\" : fetch_transactions(),\n",
    "\"revenues\" : fetch_revenues(),\n",
    "\"service_costs\" : fetch_service_costs(),\n",
    "\"creditcard_costs\" : fetch_creditcard_costs(),\n",
    "\"profits\" : fetch_profits(),\n",
    "\"external_costs\" : fetch_external_costs(),\n",
    "\"net_income\" : fetch_net_income(),\n",
    "}\n",
    "for table_name, table in dfs.items():\n",
    "    print(table_name)\n",
    "    display(table.head())"
   ]
  },
  {
   "cell_type": "markdown",
   "id": "4",
   "metadata": {},
   "source": [
    "# Sanity checks\n",
    "The following is a list of sanity checks to run prior to analysing the data\n",
    "\n",
    "\n",
    "- \"transactions\"\n",
    "    - All values must be positive.\n",
    "    - \"Total\" columns must be equal to the sum of all other columns at all time, inc. rounding error\n",
    "- \"revenues\"\n",
    "    - \"Total\" columns must be equal to the sum of all other columns at all time, inc. rounding error\n",
    "\n",
    "- \"service_costs\"\n",
    "    - All values must be negative.\n",
    "    - \"Total\" columns must be equal to the sum of all other columns at all time, inc. rounding error\n",
    "\n",
    "- \"creditcard_costs\" \n",
    "    - All values must be negative.\n",
    "    - \"Total\" columns must be equal to the sum of all other columns at all time, inc. rounding error\n",
    "\n",
    "- \"profits\"\n",
    "    - \"Total\" columns must be equal to the sum of all other columns at all time, inc. rounding error\n",
    "\n",
    "- \"external_costs\" \n",
    "    - \"Total\" columns must be equal to the sum of all other columns at all time, inc. rounding error\n",
    "\n",
    "- \"net_income\" \n",
    "\n",
    "Other rules:\n",
    "total_gross_profit = total_revenue + total_cost_of_services + total_credit_card_fees\n",
    "ebitda = total_opex + total_gross_profit"
   ]
  },
  {
   "cell_type": "code",
   "execution_count": 12,
   "id": "5",
   "metadata": {
    "ExecuteTime": {
     "end_time": "2024-06-28T18:49:07.284972700Z",
     "start_time": "2024-06-28T18:49:06.895499200Z"
    }
   },
   "outputs": [
    {
     "name": "stdout",
     "output_type": "stream",
     "text": [
      "Transactions are all positive True\n",
      "Services costs are negative True\n",
      "credicard costs are negative True\n"
     ]
    }
   ],
   "source": [
    "# 1. check positive/negative dataframes\n",
    "print(\"Transactions are all positive\", (dfs[\"transactions\"] >= 0).all().all())\n",
    "print(\"Services costs are negative\", (dfs[\"service_costs\"] <= 0).all().all())\n",
    "print(\"credicard costs are negative\", (dfs[\"creditcard_costs\"] <= 0).all().all())"
   ]
  },
  {
   "cell_type": "code",
   "execution_count": 13,
   "id": "6",
   "metadata": {
    "ExecuteTime": {
     "end_time": "2024-06-28T18:49:07.399693600Z",
     "start_time": "2024-06-28T18:49:06.926070200Z"
    }
   },
   "outputs": [
    {
     "name": "stdout",
     "output_type": "stream",
     "text": [
      "transactions: True\n",
      "revenues: True\n",
      "service_costs: True\n",
      "creditcard_costs: True\n",
      "profits: True\n",
      "external_costs: True\n"
     ]
    }
   ],
   "source": [
    "# 2. check if \"totals\" columns are correct\n",
    "rounding_error = 0.1\n",
    "\n",
    "def total_is_correct(df: pd.DataFrame, total_col: str) -> bool:\n",
    "    # Exclude the \"Total\" column from the sum calculation\n",
    "    other_columns_sum = df.drop(columns=[total_col]).sum(axis=1)\n",
    "    # Compare the calculated sum with the \"Total\" column\n",
    "    is_total_correct = (df[total_col] - other_columns_sum <= rounding_error)\n",
    "    return all(is_total_correct)\n",
    "\n",
    "print(\"transactions:\", total_is_correct(dfs[\"transactions\"], \"total_transactions\"))\n",
    "print(\"revenues:\", total_is_correct(dfs[\"revenues\"], \"total_revenue\"))\n",
    "print(\"service_costs:\", total_is_correct(dfs[\"service_costs\"], \"total_cost_of_services\"))\n",
    "print(\"creditcard_costs:\", total_is_correct(dfs[\"creditcard_costs\"], \"total_credit_card_fees\"))\n",
    "print(\"profits:\", total_is_correct(dfs[\"profits\"], \"total_gross_profit\"))\n",
    "print(\"external_costs:\", total_is_correct(dfs[\"external_costs\"], \"total_opex\"))\n"
   ]
  },
  {
   "cell_type": "code",
   "execution_count": 14,
   "id": "7",
   "metadata": {
    "ExecuteTime": {
     "end_time": "2024-06-28T18:49:07.476728700Z",
     "start_time": "2024-06-28T18:49:06.932018300Z"
    }
   },
   "outputs": [
    {
     "name": "stdout",
     "output_type": "stream",
     "text": [
      "total profit:  True\n"
     ]
    }
   ],
   "source": [
    "# 3. Check total_gross_profit = total_revenue + total_cost_of_services + total_credit_card_fees\n",
    "checked_total_gross_profit = (dfs[\"revenues\"][\"total_revenue\"] \n",
    "                              + dfs[\"service_costs\"][\"total_cost_of_services\"] \n",
    "                              + dfs[\"creditcard_costs\"][\"total_credit_card_fees\"])\n",
    "residues = checked_total_gross_profit - dfs[\"profits\"][\"total_gross_profit\"]\n",
    "is_total_correct = (all(residues <= rounding_error))\n",
    "print(\"total profit: \", is_total_correct)"
   ]
  },
  {
   "cell_type": "code",
   "execution_count": 15,
   "id": "8",
   "metadata": {
    "ExecuteTime": {
     "end_time": "2024-06-28T18:49:07.526884600Z",
     "start_time": "2024-06-28T18:49:06.941907Z"
    }
   },
   "outputs": [
    {
     "name": "stdout",
     "output_type": "stream",
     "text": [
      "ebitda:  True\n"
     ]
    }
   ],
   "source": [
    "# 4. check ebitda = total_opex + total_gross_profit\n",
    "checked_ebitda = dfs[\"external_costs\"][\"total_opex\"] + dfs[\"profits\"][\"total_gross_profit\"]\n",
    "residues = checked_ebitda - dfs[\"net_income\"][\"ebitda\"]\n",
    "is_total_correct = (all(residues <= rounding_error))\n",
    "print(\"ebitda: \", is_total_correct)"
   ]
  },
  {
   "cell_type": "markdown",
   "id": "9",
   "metadata": {},
   "source": [
    "**Conclusion:** \n",
    "- I see no real issue with the data.\n",
    "- I will keep this split into multiple dataframes to simulate a database with multiple tables\n",
    "\n",
    "**Notes:**\n",
    "- Some revenues are negative. I will assume this to be correct, maybe accounting for the\n",
    "fact that \"cost of services\" and \"credit card fees\" do not cover the entire cost centers of an \n",
    "activity. Those hidden costs might be bunched-up into the revenue.\n",
    "- The number of transactions are not integers. I am going to assume this is not an issue and \n",
    "ignore this fact."
   ]
  }
 ],
 "metadata": {
  "kernelspec": {
   "display_name": "Python 3",
   "language": "python",
   "name": "python3"
  },
  "language_info": {
   "codemirror_mode": {
    "name": "ipython",
    "version": 2
   },
   "file_extension": ".py",
   "mimetype": "text/x-python",
   "name": "python",
   "nbconvert_exporter": "python",
   "pygments_lexer": "ipython2",
   "version": "2.7.6"
  }
 },
 "nbformat": 4,
 "nbformat_minor": 5
}
